{
 "cells": [
  {
   "cell_type": "code",
   "execution_count": 1,
   "source": [
    "import torch\r\n",
    "from transformers import GPT2LMHeadModel, GPT2Tokenizer"
   ],
   "outputs": [],
   "metadata": {}
  },
  {
   "cell_type": "code",
   "execution_count": 2,
   "source": [
    "tokenizer = GPT2Tokenizer.from_pretrained('gpt2')\r\n",
    "model = GPT2LMHeadModel.from_pretrained('gpt2')"
   ],
   "outputs": [
    {
     "output_type": "stream",
     "name": "stderr",
     "text": [
      "Downloading: 100%|██████████| 548M/548M [00:31<00:00, 17.4MB/s]\n"
     ]
    }
   ],
   "metadata": {}
  },
  {
   "cell_type": "code",
   "execution_count": 3,
   "source": [
    "special_tokens_dict = {'bos_token': '<BOS>', 'eos_token': '<EOS>', 'pad_token': '<PAD>'}\r\n",
    "num_added_toks = tokenizer.add_special_tokens(special_tokens_dict)"
   ],
   "outputs": [],
   "metadata": {}
  },
  {
   "cell_type": "code",
   "execution_count": 4,
   "source": [
    "num_added_toks"
   ],
   "outputs": [
    {
     "output_type": "execute_result",
     "data": {
      "text/plain": [
       "3"
      ]
     },
     "metadata": {},
     "execution_count": 4
    }
   ],
   "metadata": {}
  },
  {
   "cell_type": "code",
   "execution_count": 7,
   "source": [
    "%%bash\r\n",
    "cd transformers/\r\n",
    "pwd\r\n",
    "git clone https://github.com/huggingface/transformers.git"
   ],
   "outputs": [
    {
     "output_type": "stream",
     "name": "stdout",
     "text": [
      "/d/workarea/GPT2-python-code-generator/transformers\n"
     ]
    },
    {
     "output_type": "stream",
     "name": "stderr",
     "text": [
      "Cloning into 'transformers'...\n",
      "Updating files: 100% (1540/1540), done.\n"
     ]
    }
   ],
   "metadata": {}
  },
  {
   "cell_type": "code",
   "execution_count": 13,
   "source": [
    "%%bash\r\n",
    "cd transformers/transformers/\r\n",
    "pwd\r\n",
    "git checkout b39bd763e8"
   ],
   "outputs": [
    {
     "output_type": "stream",
     "name": "stdout",
     "text": [
      "/d/workarea/GPT2-python-code-generator/transformers/transformers\n"
     ]
    },
    {
     "output_type": "stream",
     "name": "stderr",
     "text": [
      "HEAD is now at b39bd763e Update README.md\n"
     ]
    }
   ],
   "metadata": {}
  },
  {
   "cell_type": "code",
   "execution_count": 9,
   "source": [
    "!python transformers/transformers/examples/language-modeling/run_clm.py \\\r\n",
    "    --do_train \\\r\n",
    "    --do_eval \\\r\n",
    "    --fp16 \\\r\n",
    "    --logging_first_step \\\r\n",
    "    --evaluation_strategy epoch \\\r\n",
    "    --logging_steps 2000 \\\r\n",
    "    --model_name_or_path gpt2 \\\r\n",
    "    --model_type gpt2 \\\r\n",
    "    --num_train_epochs 5 \\\r\n",
    "    --output_dir finetune \\\r\n",
    "    --per_device_eval_batch_size 5 \\\r\n",
    "    --per_device_train_batch_size 5 \\\r\n",
    "    --save_steps 2000 \\\r\n",
    "    --save_total_limit 20 \\\r\n",
    "    --train_file data/train.csv \\\r\n",
    "    --validation_file data/test.csv"
   ],
   "outputs": [
    {
     "output_type": "stream",
     "name": "stderr",
     "text": [
      "python: can't open file 'd:\\workarea\\GPT2-python-code-generator\\transformers\\examples\\language-modeling\\run_clm.py': [Errno 2] No such file or directory\n"
     ]
    }
   ],
   "metadata": {}
  },
  {
   "cell_type": "code",
   "execution_count": null,
   "source": [],
   "outputs": [],
   "metadata": {}
  }
 ],
 "metadata": {
  "kernelspec": {
   "name": "python3",
   "display_name": "Python 3.9.1 64-bit"
  },
  "language_info": {
   "codemirror_mode": {
    "name": "ipython",
    "version": 3
   },
   "file_extension": ".py",
   "mimetype": "text/x-python",
   "name": "python",
   "nbconvert_exporter": "python",
   "pygments_lexer": "ipython3",
   "version": "3.9.1"
  },
  "interpreter": {
   "hash": "63fd5069d213b44bf678585dea6b12cceca9941eaf7f819626cde1f2670de90d"
  }
 },
 "nbformat": 4,
 "nbformat_minor": 4
}